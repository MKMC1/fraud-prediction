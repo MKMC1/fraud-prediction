{
 "cells": [
  {
   "cell_type": "code",
   "execution_count": 3,
   "metadata": {},
   "outputs": [],
   "source": [
    "import numpy as np\n",
    "import pandas as pd\n",
    "import matplotlib.pyplot as plt\n",
    "from sklearn.model_selection import RepeatedStratifiedKFold, train_test_split, cross_val_score\n",
    "import xgboost as xgb\n",
    "import optuna"
   ]
  },
  {
   "cell_type": "code",
   "execution_count": null,
   "metadata": {},
   "outputs": [],
   "source": [
    "def custom_learning_rate(current_iter):\n",
    "    base_learning_rate = 0.1\n",
    "    lr = base_learning_rate * np.power(0.995, current_iter)\n",
    "    return lr\n",
    "\n",
    "def objective(trial):\n",
    "    data = pd.read_csv(\"../data/raw/creditcard.csv\")\n",
    "    time = data.pop(\"Time\")\n",
    "    test = data.pop(\"Class\")\n",
    "    X_train, X_test, y_train, y_test = train_test_split(data, test, test_size=0.25, stratify=test)\n",
    "    dtrain = xgb.DMatrix(X_train, y_train)\n",
    "    dtest = xgb.DMatrix(X_test, y_test)\n",
    "    \n",
    "    skf = RepeatedStratifiedKFold(n_splits=5, n_repeats=2)\n",
    "\n",
    "    param = {\n",
    "        \"verbosity\": 0,\n",
    "        \"objective\": \"binary:logistic\",\n",
    "        \"eval_metric\": \"aucpr\",\n",
    "        \"booster\": trial.suggest_categorical(\"booster\", [\"gbtree\", \"gblinear\", \"dart\"]),\n",
    "        \"lambda\": trial.suggest_float(\"lambda\", 1e-8, 1.0, log=True),\n",
    "        \"alpha\": trial.suggest_float(\"alpha\", 1e-8, 1.0, log=True),\n",
    "    }\n",
    "\n",
    "    if param[\"booster\"] == \"gbtree\" or param[\"booster\"] == \"dart\":\n",
    "        param[\"max_depth\"] = trial.suggest_int(\"max_depth\", 1, 9)\n",
    "        param[\"eta\"] = trial.suggest_float(\"eta\", 1e-8, 1.0, log=True)\n",
    "        param[\"gamma\"] = trial.suggest_float(\"gamma\", 1e-8, 1.0, log=True)\n",
    "        param[\"grow_policy\"] = trial.suggest_categorical(\"grow_policy\", [\"depthwise\", \"lossguide\"])\n",
    "    if param[\"booster\"] == \"dart\":\n",
    "        param[\"sample_type\"] = trial.suggest_categorical(\"sample_type\", [\"uniform\", \"weighted\"])\n",
    "        param[\"normalize_type\"] = trial.suggest_categorical(\"normalize_type\", [\"tree\", \"forest\"])\n",
    "        param[\"rate_drop\"] = trial.suggest_float(\"rate_drop\", 1e-8, 1.0, log=True)\n",
    "        param[\"skip_drop\"] = trial.suggest_float(\"skip_drop\", 1e-8, 1.0, log=True)\n",
    "\n",
    "    pruning_callback = optuna.integration.XGBoostPruningCallback(trial, \"test-aucpr\")\n",
    "    history = xgb.cv(param, dtrain, folds=skf, num_boost_round=100, callbacks=[pruning_callback, \n",
    "                                                                               xgb.callback.EarlyStopping(3),\n",
    "                                                                               xgb.callback.LearningRateScheduler(custom_learning_rate)])\n",
    "\n",
    "    mean_aucpr = history[\"test-aucpr-mean\"].values[-1]\n",
    "    return mean_aucpr"
   ]
  },
  {
   "cell_type": "code",
   "execution_count": 11,
   "metadata": {},
   "outputs": [
    {
     "name": "stderr",
     "output_type": "stream",
     "text": [
      "[I 2025-04-11 15:04:41,605] A new study created in memory with name: no-name-6728d356-0f9f-453a-ae9b-a949b4da8e55\n",
      "/home/michael/fraudprediction/.venv/lib/python3.12/site-packages/xgboost/core.py:726: FutureWarning:\n",
      "\n",
      "Pass `rounds` as keyword args.\n",
      "\n",
      "[I 2025-04-11 15:04:47,703] Trial 0 finished with value: 0.3027402751745824 and parameters: {'booster': 'gbtree', 'lambda': 6.966079647380314e-08, 'alpha': 1.0552093672968532e-07, 'max_depth': 3, 'eta': 1.0959259425946163e-06, 'gamma': 0.07980747451207709, 'grow_policy': 'lossguide'}. Best is trial 0 with value: 0.3027402751745824.\n",
      "/home/michael/fraudprediction/.venv/lib/python3.12/site-packages/xgboost/core.py:726: FutureWarning:\n",
      "\n",
      "Pass `rounds` as keyword args.\n",
      "\n",
      "[I 2025-04-11 15:04:53,014] Trial 1 finished with value: 0.3022258459451831 and parameters: {'booster': 'dart', 'lambda': 0.012429924300222361, 'alpha': 1.3145018981937846e-05, 'max_depth': 8, 'eta': 5.316776058276012e-06, 'gamma': 7.942724597400504e-05, 'grow_policy': 'depthwise', 'sample_type': 'uniform', 'normalize_type': 'tree', 'rate_drop': 0.9807669456357917, 'skip_drop': 1.7106464140928825e-07}. Best is trial 0 with value: 0.3027402751745824.\n",
      "/home/michael/fraudprediction/.venv/lib/python3.12/site-packages/xgboost/core.py:726: FutureWarning:\n",
      "\n",
      "Pass `rounds` as keyword args.\n",
      "\n",
      "[I 2025-04-11 15:04:58,178] Trial 2 pruned. Trial was pruned at iteration 3.\n",
      "/home/michael/fraudprediction/.venv/lib/python3.12/site-packages/xgboost/core.py:726: FutureWarning:\n",
      "\n",
      "Pass `rounds` as keyword args.\n",
      "\n",
      "[I 2025-04-11 15:05:04,532] Trial 3 finished with value: 0.7604010219915065 and parameters: {'booster': 'gblinear', 'lambda': 0.00031743749459713517, 'alpha': 0.10392740426525854}. Best is trial 3 with value: 0.7604010219915065.\n",
      "/home/michael/fraudprediction/.venv/lib/python3.12/site-packages/xgboost/core.py:726: FutureWarning:\n",
      "\n",
      "Pass `rounds` as keyword args.\n",
      "\n",
      "[I 2025-04-11 15:05:09,581] Trial 4 pruned. Trial was pruned at iteration 3.\n",
      "/home/michael/fraudprediction/.venv/lib/python3.12/site-packages/xgboost/core.py:726: FutureWarning:\n",
      "\n",
      "Pass `rounds` as keyword args.\n",
      "\n",
      "[I 2025-04-11 15:05:13,813] Trial 5 pruned. Trial was pruned at iteration 1.\n",
      "/home/michael/fraudprediction/.venv/lib/python3.12/site-packages/xgboost/core.py:726: FutureWarning:\n",
      "\n",
      "Pass `rounds` as keyword args.\n",
      "\n",
      "[I 2025-04-11 15:05:18,907] Trial 6 pruned. Trial was pruned at iteration 3.\n",
      "/home/michael/fraudprediction/.venv/lib/python3.12/site-packages/xgboost/core.py:726: FutureWarning:\n",
      "\n",
      "Pass `rounds` as keyword args.\n",
      "\n",
      "[I 2025-04-11 15:05:23,028] Trial 7 pruned. Trial was pruned at iteration 1.\n",
      "/home/michael/fraudprediction/.venv/lib/python3.12/site-packages/xgboost/core.py:726: FutureWarning:\n",
      "\n",
      "Pass `rounds` as keyword args.\n",
      "\n",
      "[I 2025-04-11 15:05:28,504] Trial 8 finished with value: 0.7603571304680216 and parameters: {'booster': 'gblinear', 'lambda': 4.2002437723236674e-05, 'alpha': 0.43259074662246244}. Best is trial 3 with value: 0.7604010219915065.\n",
      "/home/michael/fraudprediction/.venv/lib/python3.12/site-packages/xgboost/core.py:726: FutureWarning:\n",
      "\n",
      "Pass `rounds` as keyword args.\n",
      "\n",
      "[I 2025-04-11 15:05:32,703] Trial 9 pruned. Trial was pruned at iteration 1.\n",
      "/home/michael/fraudprediction/.venv/lib/python3.12/site-packages/xgboost/core.py:726: FutureWarning:\n",
      "\n",
      "Pass `rounds` as keyword args.\n",
      "\n",
      "[I 2025-04-11 15:05:37,147] Trial 10 pruned. Trial was pruned at iteration 3.\n",
      "/home/michael/fraudprediction/.venv/lib/python3.12/site-packages/xgboost/core.py:726: FutureWarning:\n",
      "\n",
      "Pass `rounds` as keyword args.\n",
      "\n",
      "[I 2025-04-11 15:05:41,368] Trial 11 pruned. Trial was pruned at iteration 3.\n",
      "/home/michael/fraudprediction/.venv/lib/python3.12/site-packages/xgboost/core.py:726: FutureWarning:\n",
      "\n",
      "Pass `rounds` as keyword args.\n",
      "\n",
      "[I 2025-04-11 15:05:45,471] Trial 12 pruned. Trial was pruned at iteration 3.\n",
      "/home/michael/fraudprediction/.venv/lib/python3.12/site-packages/xgboost/core.py:726: FutureWarning:\n",
      "\n",
      "Pass `rounds` as keyword args.\n",
      "\n",
      "[I 2025-04-11 15:05:49,376] Trial 13 pruned. Trial was pruned at iteration 1.\n",
      "/home/michael/fraudprediction/.venv/lib/python3.12/site-packages/xgboost/core.py:726: FutureWarning:\n",
      "\n",
      "Pass `rounds` as keyword args.\n",
      "\n",
      "[I 2025-04-11 15:05:56,585] Trial 14 finished with value: 0.7781838815058496 and parameters: {'booster': 'gblinear', 'lambda': 1.9265867893802605e-08, 'alpha': 0.024273995647211718}. Best is trial 14 with value: 0.7781838815058496.\n",
      "/home/michael/fraudprediction/.venv/lib/python3.12/site-packages/xgboost/core.py:726: FutureWarning:\n",
      "\n",
      "Pass `rounds` as keyword args.\n",
      "\n",
      "[I 2025-04-11 15:06:01,451] Trial 15 pruned. Trial was pruned at iteration 1.\n",
      "/home/michael/fraudprediction/.venv/lib/python3.12/site-packages/xgboost/core.py:726: FutureWarning:\n",
      "\n",
      "Pass `rounds` as keyword args.\n",
      "\n",
      "[I 2025-04-11 15:06:06,735] Trial 16 pruned. Trial was pruned at iteration 3.\n",
      "/home/michael/fraudprediction/.venv/lib/python3.12/site-packages/xgboost/core.py:726: FutureWarning:\n",
      "\n",
      "Pass `rounds` as keyword args.\n",
      "\n",
      "[I 2025-04-11 15:06:12,482] Trial 17 finished with value: 0.7811351506488393 and parameters: {'booster': 'gblinear', 'lambda': 0.301306138650936, 'alpha': 7.639360999361881e-06}. Best is trial 17 with value: 0.7811351506488393.\n",
      "/home/michael/fraudprediction/.venv/lib/python3.12/site-packages/xgboost/core.py:726: FutureWarning:\n",
      "\n",
      "Pass `rounds` as keyword args.\n",
      "\n",
      "[I 2025-04-11 15:06:20,706] Trial 18 finished with value: 0.7814993680095659 and parameters: {'booster': 'gblinear', 'lambda': 0.23965509951565864, 'alpha': 3.4635364043328593e-06}. Best is trial 18 with value: 0.7814993680095659.\n",
      "/home/michael/fraudprediction/.venv/lib/python3.12/site-packages/xgboost/core.py:726: FutureWarning:\n",
      "\n",
      "Pass `rounds` as keyword args.\n",
      "\n",
      "[I 2025-04-11 15:06:25,659] Trial 19 pruned. Trial was pruned at iteration 3.\n",
      "/home/michael/fraudprediction/.venv/lib/python3.12/site-packages/xgboost/core.py:726: FutureWarning:\n",
      "\n",
      "Pass `rounds` as keyword args.\n",
      "\n",
      "[I 2025-04-11 15:06:31,725] Trial 20 pruned. Trial was pruned at iteration 3.\n",
      "/home/michael/fraudprediction/.venv/lib/python3.12/site-packages/xgboost/core.py:726: FutureWarning:\n",
      "\n",
      "Pass `rounds` as keyword args.\n",
      "\n",
      "[I 2025-04-11 15:06:41,509] Trial 21 finished with value: 0.7812529721972978 and parameters: {'booster': 'gblinear', 'lambda': 0.12988760341387148, 'alpha': 0.00014601398011936844}. Best is trial 18 with value: 0.7814993680095659.\n",
      "/home/michael/fraudprediction/.venv/lib/python3.12/site-packages/xgboost/core.py:726: FutureWarning:\n",
      "\n",
      "Pass `rounds` as keyword args.\n",
      "\n",
      "[I 2025-04-11 15:06:46,335] Trial 22 pruned. Trial was pruned at iteration 9.\n",
      "/home/michael/fraudprediction/.venv/lib/python3.12/site-packages/xgboost/core.py:726: FutureWarning:\n",
      "\n",
      "Pass `rounds` as keyword args.\n",
      "\n",
      "[I 2025-04-11 15:06:56,109] Trial 23 finished with value: 0.781443440920254 and parameters: {'booster': 'gblinear', 'lambda': 0.1473814822249641, 'alpha': 1.7037013776581038e-05}. Best is trial 18 with value: 0.7814993680095659.\n",
      "/home/michael/fraudprediction/.venv/lib/python3.12/site-packages/xgboost/core.py:726: FutureWarning:\n",
      "\n",
      "Pass `rounds` as keyword args.\n",
      "\n",
      "[I 2025-04-11 15:07:00,862] Trial 24 pruned. Trial was pruned at iteration 3.\n",
      "/home/michael/fraudprediction/.venv/lib/python3.12/site-packages/xgboost/core.py:726: FutureWarning:\n",
      "\n",
      "Pass `rounds` as keyword args.\n",
      "\n",
      "[I 2025-04-11 15:07:11,484] Trial 25 pruned. Trial was pruned at iteration 9.\n",
      "/home/michael/fraudprediction/.venv/lib/python3.12/site-packages/xgboost/core.py:726: FutureWarning:\n",
      "\n",
      "Pass `rounds` as keyword args.\n",
      "\n",
      "[I 2025-04-11 15:07:15,603] Trial 26 pruned. Trial was pruned at iteration 1.\n",
      "/home/michael/fraudprediction/.venv/lib/python3.12/site-packages/xgboost/core.py:726: FutureWarning:\n",
      "\n",
      "Pass `rounds` as keyword args.\n",
      "\n",
      "[I 2025-04-11 15:07:24,241] Trial 27 pruned. Trial was pruned at iteration 9.\n",
      "/home/michael/fraudprediction/.venv/lib/python3.12/site-packages/xgboost/core.py:726: FutureWarning:\n",
      "\n",
      "Pass `rounds` as keyword args.\n",
      "\n",
      "[I 2025-04-11 15:07:28,625] Trial 28 pruned. Trial was pruned at iteration 1.\n",
      "/home/michael/fraudprediction/.venv/lib/python3.12/site-packages/xgboost/core.py:726: FutureWarning:\n",
      "\n",
      "Pass `rounds` as keyword args.\n",
      "\n",
      "[I 2025-04-11 15:07:32,575] Trial 29 pruned. Trial was pruned at iteration 3.\n",
      "/home/michael/fraudprediction/.venv/lib/python3.12/site-packages/xgboost/core.py:726: FutureWarning:\n",
      "\n",
      "Pass `rounds` as keyword args.\n",
      "\n",
      "[I 2025-04-11 15:07:37,034] Trial 30 pruned. Trial was pruned at iteration 3.\n",
      "/home/michael/fraudprediction/.venv/lib/python3.12/site-packages/xgboost/core.py:726: FutureWarning:\n",
      "\n",
      "Pass `rounds` as keyword args.\n",
      "\n",
      "[I 2025-04-11 15:07:43,949] Trial 31 finished with value: 0.7816740222360166 and parameters: {'booster': 'gblinear', 'lambda': 0.21667910893880746, 'alpha': 4.070714339581076e-06}. Best is trial 31 with value: 0.7816740222360166.\n",
      "/home/michael/fraudprediction/.venv/lib/python3.12/site-packages/xgboost/core.py:726: FutureWarning:\n",
      "\n",
      "Pass `rounds` as keyword args.\n",
      "\n",
      "[I 2025-04-11 15:07:49,281] Trial 32 pruned. Trial was pruned at iteration 9.\n",
      "/home/michael/fraudprediction/.venv/lib/python3.12/site-packages/xgboost/core.py:726: FutureWarning:\n",
      "\n",
      "Pass `rounds` as keyword args.\n",
      "\n",
      "[I 2025-04-11 15:07:55,063] Trial 33 finished with value: 0.781456162444133 and parameters: {'booster': 'gblinear', 'lambda': 0.22301228784674862, 'alpha': 0.0002745000580051655}. Best is trial 31 with value: 0.7816740222360166.\n",
      "/home/michael/fraudprediction/.venv/lib/python3.12/site-packages/xgboost/core.py:726: FutureWarning:\n",
      "\n",
      "Pass `rounds` as keyword args.\n",
      "\n",
      "[I 2025-04-11 15:07:58,387] Trial 34 pruned. Trial was pruned at iteration 3.\n",
      "/home/michael/fraudprediction/.venv/lib/python3.12/site-packages/xgboost/core.py:726: FutureWarning:\n",
      "\n",
      "Pass `rounds` as keyword args.\n",
      "\n",
      "[I 2025-04-11 15:08:02,066] Trial 35 pruned. Trial was pruned at iteration 1.\n",
      "/home/michael/fraudprediction/.venv/lib/python3.12/site-packages/xgboost/core.py:726: FutureWarning:\n",
      "\n",
      "Pass `rounds` as keyword args.\n",
      "\n",
      "[I 2025-04-11 15:08:07,247] Trial 36 pruned. Trial was pruned at iteration 9.\n",
      "/home/michael/fraudprediction/.venv/lib/python3.12/site-packages/xgboost/core.py:726: FutureWarning:\n",
      "\n",
      "Pass `rounds` as keyword args.\n",
      "\n",
      "[I 2025-04-11 15:08:10,835] Trial 37 pruned. Trial was pruned at iteration 3.\n",
      "/home/michael/fraudprediction/.venv/lib/python3.12/site-packages/xgboost/core.py:726: FutureWarning:\n",
      "\n",
      "Pass `rounds` as keyword args.\n",
      "\n",
      "[I 2025-04-11 15:08:14,535] Trial 38 pruned. Trial was pruned at iteration 1.\n",
      "/home/michael/fraudprediction/.venv/lib/python3.12/site-packages/xgboost/core.py:726: FutureWarning:\n",
      "\n",
      "Pass `rounds` as keyword args.\n",
      "\n",
      "[I 2025-04-11 15:08:51,428] Trial 39 finished with value: 0.8456125181653859 and parameters: {'booster': 'dart', 'lambda': 0.0007436359009811844, 'alpha': 7.529225996600202e-05, 'max_depth': 7, 'eta': 0.019566892191815687, 'gamma': 0.9179476117109943, 'grow_policy': 'lossguide', 'sample_type': 'uniform', 'normalize_type': 'tree', 'rate_drop': 5.605613974430259e-05, 'skip_drop': 1.493296021831469e-08}. Best is trial 39 with value: 0.8456125181653859.\n",
      "/home/michael/fraudprediction/.venv/lib/python3.12/site-packages/xgboost/core.py:726: FutureWarning:\n",
      "\n",
      "Pass `rounds` as keyword args.\n",
      "\n",
      "[I 2025-04-11 15:09:45,943] Trial 40 finished with value: 0.8272041367826068 and parameters: {'booster': 'dart', 'lambda': 0.0010702563056851555, 'alpha': 5.552265185413742e-05, 'max_depth': 7, 'eta': 0.008656480337642908, 'gamma': 0.5114423615637469, 'grow_policy': 'lossguide', 'sample_type': 'uniform', 'normalize_type': 'tree', 'rate_drop': 4.800426830339654e-05, 'skip_drop': 1.2522883338488697e-08}. Best is trial 39 with value: 0.8456125181653859.\n",
      "/home/michael/fraudprediction/.venv/lib/python3.12/site-packages/xgboost/core.py:726: FutureWarning:\n",
      "\n",
      "Pass `rounds` as keyword args.\n",
      "\n",
      "[I 2025-04-11 15:12:08,067] Trial 41 finished with value: 0.8506119510018764 and parameters: {'booster': 'dart', 'lambda': 0.0011180518346963694, 'alpha': 5.8567869065180575e-05, 'max_depth': 7, 'eta': 0.010202315317672793, 'gamma': 0.31024376603844966, 'grow_policy': 'lossguide', 'sample_type': 'uniform', 'normalize_type': 'tree', 'rate_drop': 3.671541499322069e-05, 'skip_drop': 1.4405576624370743e-08}. Best is trial 41 with value: 0.8506119510018764.\n",
      "/home/michael/fraudprediction/.venv/lib/python3.12/site-packages/xgboost/core.py:726: FutureWarning:\n",
      "\n",
      "Pass `rounds` as keyword args.\n",
      "\n",
      "[I 2025-04-11 15:12:41,348] Trial 42 pruned. Trial was pruned at iteration 27.\n",
      "/home/michael/fraudprediction/.venv/lib/python3.12/site-packages/xgboost/core.py:726: FutureWarning:\n",
      "\n",
      "Pass `rounds` as keyword args.\n",
      "\n",
      "[I 2025-04-11 15:12:45,703] Trial 43 pruned. Trial was pruned at iteration 3.\n",
      "/home/michael/fraudprediction/.venv/lib/python3.12/site-packages/xgboost/core.py:726: FutureWarning:\n",
      "\n",
      "Pass `rounds` as keyword args.\n",
      "\n",
      "[I 2025-04-11 15:12:49,371] Trial 44 pruned. Trial was pruned at iteration 1.\n",
      "/home/michael/fraudprediction/.venv/lib/python3.12/site-packages/xgboost/core.py:726: FutureWarning:\n",
      "\n",
      "Pass `rounds` as keyword args.\n",
      "\n",
      "[I 2025-04-11 15:12:53,305] Trial 45 pruned. Trial was pruned at iteration 1.\n",
      "/home/michael/fraudprediction/.venv/lib/python3.12/site-packages/xgboost/core.py:726: FutureWarning:\n",
      "\n",
      "Pass `rounds` as keyword args.\n",
      "\n",
      "[I 2025-04-11 15:12:57,313] Trial 46 pruned. Trial was pruned at iteration 1.\n",
      "/home/michael/fraudprediction/.venv/lib/python3.12/site-packages/xgboost/core.py:726: FutureWarning:\n",
      "\n",
      "Pass `rounds` as keyword args.\n",
      "\n",
      "[I 2025-04-11 15:13:01,721] Trial 47 pruned. Trial was pruned at iteration 1.\n",
      "/home/michael/fraudprediction/.venv/lib/python3.12/site-packages/xgboost/core.py:726: FutureWarning:\n",
      "\n",
      "Pass `rounds` as keyword args.\n",
      "\n",
      "[I 2025-04-11 15:13:06,766] Trial 48 pruned. Trial was pruned at iteration 3.\n",
      "/home/michael/fraudprediction/.venv/lib/python3.12/site-packages/xgboost/core.py:726: FutureWarning:\n",
      "\n",
      "Pass `rounds` as keyword args.\n",
      "\n",
      "[I 2025-04-11 15:13:11,219] Trial 49 pruned. Trial was pruned at iteration 1.\n",
      "/home/michael/fraudprediction/.venv/lib/python3.12/site-packages/xgboost/core.py:726: FutureWarning:\n",
      "\n",
      "Pass `rounds` as keyword args.\n",
      "\n",
      "[I 2025-04-11 15:13:15,381] Trial 50 pruned. Trial was pruned at iteration 1.\n",
      "/home/michael/fraudprediction/.venv/lib/python3.12/site-packages/xgboost/core.py:726: FutureWarning:\n",
      "\n",
      "Pass `rounds` as keyword args.\n",
      "\n",
      "[I 2025-04-11 15:13:24,282] Trial 51 pruned. Trial was pruned at iteration 9.\n",
      "/home/michael/fraudprediction/.venv/lib/python3.12/site-packages/xgboost/core.py:726: FutureWarning:\n",
      "\n",
      "Pass `rounds` as keyword args.\n",
      "\n",
      "[I 2025-04-11 15:13:29,036] Trial 52 pruned. Trial was pruned at iteration 1.\n",
      "/home/michael/fraudprediction/.venv/lib/python3.12/site-packages/xgboost/core.py:726: FutureWarning:\n",
      "\n",
      "Pass `rounds` as keyword args.\n",
      "\n",
      "[I 2025-04-11 15:13:33,920] Trial 53 pruned. Trial was pruned at iteration 3.\n",
      "/home/michael/fraudprediction/.venv/lib/python3.12/site-packages/xgboost/core.py:726: FutureWarning:\n",
      "\n",
      "Pass `rounds` as keyword args.\n",
      "\n",
      "[I 2025-04-11 15:13:37,669] Trial 54 pruned. Trial was pruned at iteration 1.\n",
      "/home/michael/fraudprediction/.venv/lib/python3.12/site-packages/xgboost/core.py:726: FutureWarning:\n",
      "\n",
      "Pass `rounds` as keyword args.\n",
      "\n",
      "[I 2025-04-11 15:13:41,281] Trial 55 pruned. Trial was pruned at iteration 1.\n",
      "/home/michael/fraudprediction/.venv/lib/python3.12/site-packages/xgboost/core.py:726: FutureWarning:\n",
      "\n",
      "Pass `rounds` as keyword args.\n",
      "\n",
      "[I 2025-04-11 15:13:44,953] Trial 56 pruned. Trial was pruned at iteration 1.\n",
      "/home/michael/fraudprediction/.venv/lib/python3.12/site-packages/xgboost/core.py:726: FutureWarning:\n",
      "\n",
      "Pass `rounds` as keyword args.\n",
      "\n",
      "[I 2025-04-11 15:13:52,636] Trial 57 pruned. Trial was pruned at iteration 9.\n",
      "/home/michael/fraudprediction/.venv/lib/python3.12/site-packages/xgboost/core.py:726: FutureWarning:\n",
      "\n",
      "Pass `rounds` as keyword args.\n",
      "\n",
      "[I 2025-04-11 15:13:55,963] Trial 58 pruned. Trial was pruned at iteration 1.\n",
      "/home/michael/fraudprediction/.venv/lib/python3.12/site-packages/xgboost/core.py:726: FutureWarning:\n",
      "\n",
      "Pass `rounds` as keyword args.\n",
      "\n",
      "[I 2025-04-11 15:14:00,128] Trial 59 pruned. Trial was pruned at iteration 1.\n",
      "/home/michael/fraudprediction/.venv/lib/python3.12/site-packages/xgboost/core.py:726: FutureWarning:\n",
      "\n",
      "Pass `rounds` as keyword args.\n",
      "\n",
      "[I 2025-04-11 15:14:03,581] Trial 60 pruned. Trial was pruned at iteration 3.\n",
      "/home/michael/fraudprediction/.venv/lib/python3.12/site-packages/xgboost/core.py:726: FutureWarning:\n",
      "\n",
      "Pass `rounds` as keyword args.\n",
      "\n",
      "[I 2025-04-11 15:14:07,875] Trial 61 pruned. Trial was pruned at iteration 3.\n",
      "/home/michael/fraudprediction/.venv/lib/python3.12/site-packages/xgboost/core.py:726: FutureWarning:\n",
      "\n",
      "Pass `rounds` as keyword args.\n",
      "\n",
      "[I 2025-04-11 15:14:12,871] Trial 62 pruned. Trial was pruned at iteration 1.\n",
      "/home/michael/fraudprediction/.venv/lib/python3.12/site-packages/xgboost/core.py:726: FutureWarning:\n",
      "\n",
      "Pass `rounds` as keyword args.\n",
      "\n",
      "[I 2025-04-11 15:14:21,517] Trial 63 pruned. Trial was pruned at iteration 9.\n",
      "/home/michael/fraudprediction/.venv/lib/python3.12/site-packages/xgboost/core.py:726: FutureWarning:\n",
      "\n",
      "Pass `rounds` as keyword args.\n",
      "\n",
      "[I 2025-04-11 15:14:28,896] Trial 64 pruned. Trial was pruned at iteration 3.\n",
      "/home/michael/fraudprediction/.venv/lib/python3.12/site-packages/xgboost/core.py:726: FutureWarning:\n",
      "\n",
      "Pass `rounds` as keyword args.\n",
      "\n",
      "[I 2025-04-11 15:14:34,000] Trial 65 pruned. Trial was pruned at iteration 3.\n",
      "/home/michael/fraudprediction/.venv/lib/python3.12/site-packages/xgboost/core.py:726: FutureWarning:\n",
      "\n",
      "Pass `rounds` as keyword args.\n",
      "\n",
      "[I 2025-04-11 15:14:39,502] Trial 66 pruned. Trial was pruned at iteration 1.\n",
      "/home/michael/fraudprediction/.venv/lib/python3.12/site-packages/xgboost/core.py:726: FutureWarning:\n",
      "\n",
      "Pass `rounds` as keyword args.\n",
      "\n",
      "[I 2025-04-11 15:14:46,576] Trial 67 finished with value: 0.731602778742956 and parameters: {'booster': 'gblinear', 'lambda': 0.00032594955836522647, 'alpha': 1.674765210812994e-06}. Best is trial 41 with value: 0.8506119510018764.\n",
      "/home/michael/fraudprediction/.venv/lib/python3.12/site-packages/xgboost/core.py:726: FutureWarning:\n",
      "\n",
      "Pass `rounds` as keyword args.\n",
      "\n",
      "[I 2025-04-11 15:14:52,474] Trial 68 pruned. Trial was pruned at iteration 3.\n",
      "/home/michael/fraudprediction/.venv/lib/python3.12/site-packages/xgboost/core.py:726: FutureWarning:\n",
      "\n",
      "Pass `rounds` as keyword args.\n",
      "\n",
      "[I 2025-04-11 15:14:57,659] Trial 69 pruned. Trial was pruned at iteration 1.\n",
      "/home/michael/fraudprediction/.venv/lib/python3.12/site-packages/xgboost/core.py:726: FutureWarning:\n",
      "\n",
      "Pass `rounds` as keyword args.\n",
      "\n",
      "[I 2025-04-11 15:15:02,777] Trial 70 pruned. Trial was pruned at iteration 3.\n",
      "/home/michael/fraudprediction/.venv/lib/python3.12/site-packages/xgboost/core.py:726: FutureWarning:\n",
      "\n",
      "Pass `rounds` as keyword args.\n",
      "\n",
      "[I 2025-04-11 15:15:06,694] Trial 71 pruned. Trial was pruned at iteration 1.\n",
      "/home/michael/fraudprediction/.venv/lib/python3.12/site-packages/xgboost/core.py:726: FutureWarning:\n",
      "\n",
      "Pass `rounds` as keyword args.\n",
      "\n",
      "[I 2025-04-11 15:15:10,307] Trial 72 pruned. Trial was pruned at iteration 1.\n",
      "/home/michael/fraudprediction/.venv/lib/python3.12/site-packages/xgboost/core.py:726: FutureWarning:\n",
      "\n",
      "Pass `rounds` as keyword args.\n",
      "\n",
      "[I 2025-04-11 15:15:15,531] Trial 73 pruned. Trial was pruned at iteration 9.\n",
      "/home/michael/fraudprediction/.venv/lib/python3.12/site-packages/xgboost/core.py:726: FutureWarning:\n",
      "\n",
      "Pass `rounds` as keyword args.\n",
      "\n",
      "[I 2025-04-11 15:15:19,868] Trial 74 pruned. Trial was pruned at iteration 3.\n",
      "/home/michael/fraudprediction/.venv/lib/python3.12/site-packages/xgboost/core.py:726: FutureWarning:\n",
      "\n",
      "Pass `rounds` as keyword args.\n",
      "\n",
      "[I 2025-04-11 15:15:23,734] Trial 75 pruned. Trial was pruned at iteration 3.\n",
      "/home/michael/fraudprediction/.venv/lib/python3.12/site-packages/xgboost/core.py:726: FutureWarning:\n",
      "\n",
      "Pass `rounds` as keyword args.\n",
      "\n",
      "[I 2025-04-11 15:15:26,617] Trial 76 pruned. Trial was pruned at iteration 1.\n",
      "/home/michael/fraudprediction/.venv/lib/python3.12/site-packages/xgboost/core.py:726: FutureWarning:\n",
      "\n",
      "Pass `rounds` as keyword args.\n",
      "\n",
      "[I 2025-04-11 15:15:30,607] Trial 77 pruned. Trial was pruned at iteration 1.\n",
      "/home/michael/fraudprediction/.venv/lib/python3.12/site-packages/xgboost/core.py:726: FutureWarning:\n",
      "\n",
      "Pass `rounds` as keyword args.\n",
      "\n",
      "[I 2025-04-11 15:15:34,381] Trial 78 pruned. Trial was pruned at iteration 3.\n",
      "/home/michael/fraudprediction/.venv/lib/python3.12/site-packages/xgboost/core.py:726: FutureWarning:\n",
      "\n",
      "Pass `rounds` as keyword args.\n",
      "\n",
      "[I 2025-04-11 15:15:38,270] Trial 79 pruned. Trial was pruned at iteration 3.\n",
      "/home/michael/fraudprediction/.venv/lib/python3.12/site-packages/xgboost/core.py:726: FutureWarning:\n",
      "\n",
      "Pass `rounds` as keyword args.\n",
      "\n",
      "[I 2025-04-11 15:15:42,673] Trial 80 pruned. Trial was pruned at iteration 1.\n",
      "/home/michael/fraudprediction/.venv/lib/python3.12/site-packages/xgboost/core.py:726: FutureWarning:\n",
      "\n",
      "Pass `rounds` as keyword args.\n",
      "\n",
      "[I 2025-04-11 15:15:48,015] Trial 81 pruned. Trial was pruned at iteration 9.\n",
      "/home/michael/fraudprediction/.venv/lib/python3.12/site-packages/xgboost/core.py:726: FutureWarning:\n",
      "\n",
      "Pass `rounds` as keyword args.\n",
      "\n",
      "[I 2025-04-11 15:15:53,258] Trial 82 pruned. Trial was pruned at iteration 9.\n",
      "/home/michael/fraudprediction/.venv/lib/python3.12/site-packages/xgboost/core.py:726: FutureWarning:\n",
      "\n",
      "Pass `rounds` as keyword args.\n",
      "\n",
      "[I 2025-04-11 15:15:56,234] Trial 83 pruned. Trial was pruned at iteration 1.\n",
      "/home/michael/fraudprediction/.venv/lib/python3.12/site-packages/xgboost/core.py:726: FutureWarning:\n",
      "\n",
      "Pass `rounds` as keyword args.\n",
      "\n",
      "[I 2025-04-11 15:15:59,235] Trial 84 pruned. Trial was pruned at iteration 1.\n",
      "/home/michael/fraudprediction/.venv/lib/python3.12/site-packages/xgboost/core.py:726: FutureWarning:\n",
      "\n",
      "Pass `rounds` as keyword args.\n",
      "\n",
      "[I 2025-04-11 15:16:03,027] Trial 85 pruned. Trial was pruned at iteration 1.\n",
      "/home/michael/fraudprediction/.venv/lib/python3.12/site-packages/xgboost/core.py:726: FutureWarning:\n",
      "\n",
      "Pass `rounds` as keyword args.\n",
      "\n",
      "[I 2025-04-11 15:16:07,174] Trial 86 pruned. Trial was pruned at iteration 3.\n",
      "/home/michael/fraudprediction/.venv/lib/python3.12/site-packages/xgboost/core.py:726: FutureWarning:\n",
      "\n",
      "Pass `rounds` as keyword args.\n",
      "\n",
      "[I 2025-04-11 15:16:10,123] Trial 87 pruned. Trial was pruned at iteration 1.\n",
      "/home/michael/fraudprediction/.venv/lib/python3.12/site-packages/xgboost/core.py:726: FutureWarning:\n",
      "\n",
      "Pass `rounds` as keyword args.\n",
      "\n",
      "[I 2025-04-11 15:16:56,421] Trial 88 finished with value: 0.8452251378334843 and parameters: {'booster': 'dart', 'lambda': 0.0036513373348275435, 'alpha': 3.486745217079149e-06, 'max_depth': 7, 'eta': 0.04902730504597054, 'gamma': 3.0209988672541257e-05, 'grow_policy': 'depthwise', 'sample_type': 'uniform', 'normalize_type': 'tree', 'rate_drop': 6.623920831292293e-05, 'skip_drop': 0.0683197125982254}. Best is trial 41 with value: 0.8506119510018764.\n",
      "/home/michael/fraudprediction/.venv/lib/python3.12/site-packages/xgboost/core.py:726: FutureWarning:\n",
      "\n",
      "Pass `rounds` as keyword args.\n",
      "\n",
      "[I 2025-04-11 15:17:00,991] Trial 89 pruned. Trial was pruned at iteration 3.\n",
      "/home/michael/fraudprediction/.venv/lib/python3.12/site-packages/xgboost/core.py:726: FutureWarning:\n",
      "\n",
      "Pass `rounds` as keyword args.\n",
      "\n",
      "[I 2025-04-11 15:17:05,421] Trial 90 pruned. Trial was pruned at iteration 3.\n",
      "/home/michael/fraudprediction/.venv/lib/python3.12/site-packages/xgboost/core.py:726: FutureWarning:\n",
      "\n",
      "Pass `rounds` as keyword args.\n",
      "\n",
      "[I 2025-04-11 15:17:09,190] Trial 91 pruned. Trial was pruned at iteration 1.\n",
      "/home/michael/fraudprediction/.venv/lib/python3.12/site-packages/xgboost/core.py:726: FutureWarning:\n",
      "\n",
      "Pass `rounds` as keyword args.\n",
      "\n",
      "[I 2025-04-11 15:17:17,826] Trial 92 pruned. Trial was pruned at iteration 9.\n",
      "/home/michael/fraudprediction/.venv/lib/python3.12/site-packages/xgboost/core.py:726: FutureWarning:\n",
      "\n",
      "Pass `rounds` as keyword args.\n",
      "\n",
      "[I 2025-04-11 15:17:21,534] Trial 93 pruned. Trial was pruned at iteration 1.\n",
      "/home/michael/fraudprediction/.venv/lib/python3.12/site-packages/xgboost/core.py:726: FutureWarning:\n",
      "\n",
      "Pass `rounds` as keyword args.\n",
      "\n",
      "[I 2025-04-11 15:17:24,930] Trial 94 finished with value: 0.7311402819460519 and parameters: {'booster': 'gblinear', 'lambda': 0.015213451531030582, 'alpha': 6.165210946694861e-07}. Best is trial 41 with value: 0.8506119510018764.\n",
      "/home/michael/fraudprediction/.venv/lib/python3.12/site-packages/xgboost/core.py:726: FutureWarning:\n",
      "\n",
      "Pass `rounds` as keyword args.\n",
      "\n",
      "[I 2025-04-11 15:17:30,059] Trial 95 pruned. Trial was pruned at iteration 3.\n",
      "/home/michael/fraudprediction/.venv/lib/python3.12/site-packages/xgboost/core.py:726: FutureWarning:\n",
      "\n",
      "Pass `rounds` as keyword args.\n",
      "\n",
      "[I 2025-04-11 15:17:32,912] Trial 96 pruned. Trial was pruned at iteration 1.\n",
      "/home/michael/fraudprediction/.venv/lib/python3.12/site-packages/xgboost/core.py:726: FutureWarning:\n",
      "\n",
      "Pass `rounds` as keyword args.\n",
      "\n",
      "[I 2025-04-11 15:17:36,687] Trial 97 pruned. Trial was pruned at iteration 1.\n",
      "/home/michael/fraudprediction/.venv/lib/python3.12/site-packages/xgboost/core.py:726: FutureWarning:\n",
      "\n",
      "Pass `rounds` as keyword args.\n",
      "\n",
      "[I 2025-04-11 15:17:41,189] Trial 98 finished with value: 0.7782751284178847 and parameters: {'booster': 'gblinear', 'lambda': 0.037404194264818114, 'alpha': 0.00012195233038784718}. Best is trial 41 with value: 0.8506119510018764.\n",
      "/home/michael/fraudprediction/.venv/lib/python3.12/site-packages/xgboost/core.py:726: FutureWarning:\n",
      "\n",
      "Pass `rounds` as keyword args.\n",
      "\n",
      "[I 2025-04-11 15:17:44,860] Trial 99 pruned. Trial was pruned at iteration 3.\n"
     ]
    },
    {
     "name": "stdout",
     "output_type": "stream",
     "text": [
      "Number of finished trials: 100\n",
      "Best trial:\n",
      "  Value: 0.8506119510018764\n",
      "  Params: \n",
      "    booster: dart\n",
      "    lambda: 0.0011180518346963694\n",
      "    alpha: 5.8567869065180575e-05\n",
      "    max_depth: 7\n",
      "    eta: 0.010202315317672793\n",
      "    gamma: 0.31024376603844966\n",
      "    grow_policy: lossguide\n",
      "    sample_type: uniform\n",
      "    normalize_type: tree\n",
      "    rate_drop: 3.671541499322069e-05\n",
      "    skip_drop: 1.4405576624370743e-08\n"
     ]
    }
   ],
   "source": [
    "pruner=optuna.pruners.HyperbandPruner()\n",
    "study = optuna.create_study(pruner=pruner, direction=\"maximize\")\n",
    "study.optimize(objective, n_trials=100)\n",
    "\n",
    "print(\"Number of finished trials: {}\".format(len(study.trials)))\n",
    "\n",
    "print(\"Best trial:\")\n",
    "trial = study.best_trial\n",
    "print(\"  Value: {}\".format(trial.value))\n",
    "print(\"  Params: \")\n",
    "for key, value in trial.params.items():\n",
    "    print(\"    {}: {}\".format(key, value))"
   ]
  },
  {
   "cell_type": "code",
   "execution_count": 12,
   "metadata": {},
   "outputs": [
    {
     "data": {
      "text/plain": [
       "['study.pkl']"
      ]
     },
     "execution_count": 12,
     "metadata": {},
     "output_type": "execute_result"
    }
   ],
   "source": [
    "import joblib\n",
    "joblib.dump(study, \"study.pkl\")"
   ]
  },
  {
   "cell_type": "code",
   "execution_count": 1,
   "metadata": {},
   "outputs": [],
   "source": [
    "import joblib \n",
    "study = joblib.load(\"study.pkl\")"
   ]
  },
  {
   "cell_type": "code",
   "execution_count": 13,
   "metadata": {},
   "outputs": [
    {
     "data": {
      "application/vnd.plotly.v1+json": {
       "config": {
        "plotlyServerURL": "https://plot.ly"
       },
       "data": [
        {
         "mode": "markers",
         "name": "Objective Value",
         "type": "scatter",
         "x": [
          0,
          1,
          3,
          8,
          14,
          17,
          18,
          21,
          23,
          31,
          33,
          39,
          40,
          41,
          67,
          88,
          94,
          98
         ],
         "y": [
          0.3027402751745824,
          0.3022258459451831,
          0.7604010219915065,
          0.7603571304680216,
          0.7781838815058496,
          0.7811351506488393,
          0.7814993680095659,
          0.7812529721972978,
          0.781443440920254,
          0.7816740222360166,
          0.781456162444133,
          0.8456125181653859,
          0.8272041367826068,
          0.8506119510018764,
          0.731602778742956,
          0.8452251378334843,
          0.7311402819460519,
          0.7782751284178847
         ]
        },
        {
         "mode": "lines",
         "name": "Best Value",
         "type": "scatter",
         "x": [
          0,
          1,
          2,
          3,
          4,
          5,
          6,
          7,
          8,
          9,
          10,
          11,
          12,
          13,
          14,
          15,
          16,
          17,
          18,
          19,
          20,
          21,
          22,
          23,
          24,
          25,
          26,
          27,
          28,
          29,
          30,
          31,
          32,
          33,
          34,
          35,
          36,
          37,
          38,
          39,
          40,
          41,
          42,
          43,
          44,
          45,
          46,
          47,
          48,
          49,
          50,
          51,
          52,
          53,
          54,
          55,
          56,
          57,
          58,
          59,
          60,
          61,
          62,
          63,
          64,
          65,
          66,
          67,
          68,
          69,
          70,
          71,
          72,
          73,
          74,
          75,
          76,
          77,
          78,
          79,
          80,
          81,
          82,
          83,
          84,
          85,
          86,
          87,
          88,
          89,
          90,
          91,
          92,
          93,
          94,
          95,
          96,
          97,
          98,
          99
         ],
         "y": [
          0.3027402751745824,
          0.3027402751745824,
          0.3027402751745824,
          0.7604010219915065,
          0.7604010219915065,
          0.7604010219915065,
          0.7604010219915065,
          0.7604010219915065,
          0.7604010219915065,
          0.7604010219915065,
          0.7604010219915065,
          0.7604010219915065,
          0.7604010219915065,
          0.7604010219915065,
          0.7781838815058496,
          0.7781838815058496,
          0.7781838815058496,
          0.7811351506488393,
          0.7814993680095659,
          0.7814993680095659,
          0.7814993680095659,
          0.7814993680095659,
          0.7814993680095659,
          0.7814993680095659,
          0.7814993680095659,
          0.7814993680095659,
          0.7814993680095659,
          0.7814993680095659,
          0.7814993680095659,
          0.7814993680095659,
          0.7814993680095659,
          0.7816740222360166,
          0.7816740222360166,
          0.7816740222360166,
          0.7816740222360166,
          0.7816740222360166,
          0.7816740222360166,
          0.7816740222360166,
          0.7816740222360166,
          0.8456125181653859,
          0.8456125181653859,
          0.8506119510018764,
          0.8506119510018764,
          0.8506119510018764,
          0.8506119510018764,
          0.8506119510018764,
          0.8506119510018764,
          0.8506119510018764,
          0.8506119510018764,
          0.8506119510018764,
          0.8506119510018764,
          0.8506119510018764,
          0.8506119510018764,
          0.8506119510018764,
          0.8506119510018764,
          0.8506119510018764,
          0.8506119510018764,
          0.8506119510018764,
          0.8506119510018764,
          0.8506119510018764,
          0.8506119510018764,
          0.8506119510018764,
          0.8506119510018764,
          0.8506119510018764,
          0.8506119510018764,
          0.8506119510018764,
          0.8506119510018764,
          0.8506119510018764,
          0.8506119510018764,
          0.8506119510018764,
          0.8506119510018764,
          0.8506119510018764,
          0.8506119510018764,
          0.8506119510018764,
          0.8506119510018764,
          0.8506119510018764,
          0.8506119510018764,
          0.8506119510018764,
          0.8506119510018764,
          0.8506119510018764,
          0.8506119510018764,
          0.8506119510018764,
          0.8506119510018764,
          0.8506119510018764,
          0.8506119510018764,
          0.8506119510018764,
          0.8506119510018764,
          0.8506119510018764,
          0.8506119510018764,
          0.8506119510018764,
          0.8506119510018764,
          0.8506119510018764,
          0.8506119510018764,
          0.8506119510018764,
          0.8506119510018764,
          0.8506119510018764,
          0.8506119510018764,
          0.8506119510018764,
          0.8506119510018764,
          0.8506119510018764
         ]
        },
        {
         "marker": {
          "color": "#cccccc"
         },
         "mode": "markers",
         "name": "Infeasible Trial",
         "showlegend": false,
         "type": "scatter",
         "x": [],
         "y": []
        }
       ],
       "layout": {
        "template": {
         "data": {
          "bar": [
           {
            "error_x": {
             "color": "#2a3f5f"
            },
            "error_y": {
             "color": "#2a3f5f"
            },
            "marker": {
             "line": {
              "color": "#E5ECF6",
              "width": 0.5
             },
             "pattern": {
              "fillmode": "overlay",
              "size": 10,
              "solidity": 0.2
             }
            },
            "type": "bar"
           }
          ],
          "barpolar": [
           {
            "marker": {
             "line": {
              "color": "#E5ECF6",
              "width": 0.5
             },
             "pattern": {
              "fillmode": "overlay",
              "size": 10,
              "solidity": 0.2
             }
            },
            "type": "barpolar"
           }
          ],
          "carpet": [
           {
            "aaxis": {
             "endlinecolor": "#2a3f5f",
             "gridcolor": "white",
             "linecolor": "white",
             "minorgridcolor": "white",
             "startlinecolor": "#2a3f5f"
            },
            "baxis": {
             "endlinecolor": "#2a3f5f",
             "gridcolor": "white",
             "linecolor": "white",
             "minorgridcolor": "white",
             "startlinecolor": "#2a3f5f"
            },
            "type": "carpet"
           }
          ],
          "choropleth": [
           {
            "colorbar": {
             "outlinewidth": 0,
             "ticks": ""
            },
            "type": "choropleth"
           }
          ],
          "contour": [
           {
            "colorbar": {
             "outlinewidth": 0,
             "ticks": ""
            },
            "colorscale": [
             [
              0,
              "#0d0887"
             ],
             [
              0.1111111111111111,
              "#46039f"
             ],
             [
              0.2222222222222222,
              "#7201a8"
             ],
             [
              0.3333333333333333,
              "#9c179e"
             ],
             [
              0.4444444444444444,
              "#bd3786"
             ],
             [
              0.5555555555555556,
              "#d8576b"
             ],
             [
              0.6666666666666666,
              "#ed7953"
             ],
             [
              0.7777777777777778,
              "#fb9f3a"
             ],
             [
              0.8888888888888888,
              "#fdca26"
             ],
             [
              1,
              "#f0f921"
             ]
            ],
            "type": "contour"
           }
          ],
          "contourcarpet": [
           {
            "colorbar": {
             "outlinewidth": 0,
             "ticks": ""
            },
            "type": "contourcarpet"
           }
          ],
          "heatmap": [
           {
            "colorbar": {
             "outlinewidth": 0,
             "ticks": ""
            },
            "colorscale": [
             [
              0,
              "#0d0887"
             ],
             [
              0.1111111111111111,
              "#46039f"
             ],
             [
              0.2222222222222222,
              "#7201a8"
             ],
             [
              0.3333333333333333,
              "#9c179e"
             ],
             [
              0.4444444444444444,
              "#bd3786"
             ],
             [
              0.5555555555555556,
              "#d8576b"
             ],
             [
              0.6666666666666666,
              "#ed7953"
             ],
             [
              0.7777777777777778,
              "#fb9f3a"
             ],
             [
              0.8888888888888888,
              "#fdca26"
             ],
             [
              1,
              "#f0f921"
             ]
            ],
            "type": "heatmap"
           }
          ],
          "histogram": [
           {
            "marker": {
             "pattern": {
              "fillmode": "overlay",
              "size": 10,
              "solidity": 0.2
             }
            },
            "type": "histogram"
           }
          ],
          "histogram2d": [
           {
            "colorbar": {
             "outlinewidth": 0,
             "ticks": ""
            },
            "colorscale": [
             [
              0,
              "#0d0887"
             ],
             [
              0.1111111111111111,
              "#46039f"
             ],
             [
              0.2222222222222222,
              "#7201a8"
             ],
             [
              0.3333333333333333,
              "#9c179e"
             ],
             [
              0.4444444444444444,
              "#bd3786"
             ],
             [
              0.5555555555555556,
              "#d8576b"
             ],
             [
              0.6666666666666666,
              "#ed7953"
             ],
             [
              0.7777777777777778,
              "#fb9f3a"
             ],
             [
              0.8888888888888888,
              "#fdca26"
             ],
             [
              1,
              "#f0f921"
             ]
            ],
            "type": "histogram2d"
           }
          ],
          "histogram2dcontour": [
           {
            "colorbar": {
             "outlinewidth": 0,
             "ticks": ""
            },
            "colorscale": [
             [
              0,
              "#0d0887"
             ],
             [
              0.1111111111111111,
              "#46039f"
             ],
             [
              0.2222222222222222,
              "#7201a8"
             ],
             [
              0.3333333333333333,
              "#9c179e"
             ],
             [
              0.4444444444444444,
              "#bd3786"
             ],
             [
              0.5555555555555556,
              "#d8576b"
             ],
             [
              0.6666666666666666,
              "#ed7953"
             ],
             [
              0.7777777777777778,
              "#fb9f3a"
             ],
             [
              0.8888888888888888,
              "#fdca26"
             ],
             [
              1,
              "#f0f921"
             ]
            ],
            "type": "histogram2dcontour"
           }
          ],
          "mesh3d": [
           {
            "colorbar": {
             "outlinewidth": 0,
             "ticks": ""
            },
            "type": "mesh3d"
           }
          ],
          "parcoords": [
           {
            "line": {
             "colorbar": {
              "outlinewidth": 0,
              "ticks": ""
             }
            },
            "type": "parcoords"
           }
          ],
          "pie": [
           {
            "automargin": true,
            "type": "pie"
           }
          ],
          "scatter": [
           {
            "fillpattern": {
             "fillmode": "overlay",
             "size": 10,
             "solidity": 0.2
            },
            "type": "scatter"
           }
          ],
          "scatter3d": [
           {
            "line": {
             "colorbar": {
              "outlinewidth": 0,
              "ticks": ""
             }
            },
            "marker": {
             "colorbar": {
              "outlinewidth": 0,
              "ticks": ""
             }
            },
            "type": "scatter3d"
           }
          ],
          "scattercarpet": [
           {
            "marker": {
             "colorbar": {
              "outlinewidth": 0,
              "ticks": ""
             }
            },
            "type": "scattercarpet"
           }
          ],
          "scattergeo": [
           {
            "marker": {
             "colorbar": {
              "outlinewidth": 0,
              "ticks": ""
             }
            },
            "type": "scattergeo"
           }
          ],
          "scattergl": [
           {
            "marker": {
             "colorbar": {
              "outlinewidth": 0,
              "ticks": ""
             }
            },
            "type": "scattergl"
           }
          ],
          "scattermap": [
           {
            "marker": {
             "colorbar": {
              "outlinewidth": 0,
              "ticks": ""
             }
            },
            "type": "scattermap"
           }
          ],
          "scattermapbox": [
           {
            "marker": {
             "colorbar": {
              "outlinewidth": 0,
              "ticks": ""
             }
            },
            "type": "scattermapbox"
           }
          ],
          "scatterpolar": [
           {
            "marker": {
             "colorbar": {
              "outlinewidth": 0,
              "ticks": ""
             }
            },
            "type": "scatterpolar"
           }
          ],
          "scatterpolargl": [
           {
            "marker": {
             "colorbar": {
              "outlinewidth": 0,
              "ticks": ""
             }
            },
            "type": "scatterpolargl"
           }
          ],
          "scatterternary": [
           {
            "marker": {
             "colorbar": {
              "outlinewidth": 0,
              "ticks": ""
             }
            },
            "type": "scatterternary"
           }
          ],
          "surface": [
           {
            "colorbar": {
             "outlinewidth": 0,
             "ticks": ""
            },
            "colorscale": [
             [
              0,
              "#0d0887"
             ],
             [
              0.1111111111111111,
              "#46039f"
             ],
             [
              0.2222222222222222,
              "#7201a8"
             ],
             [
              0.3333333333333333,
              "#9c179e"
             ],
             [
              0.4444444444444444,
              "#bd3786"
             ],
             [
              0.5555555555555556,
              "#d8576b"
             ],
             [
              0.6666666666666666,
              "#ed7953"
             ],
             [
              0.7777777777777778,
              "#fb9f3a"
             ],
             [
              0.8888888888888888,
              "#fdca26"
             ],
             [
              1,
              "#f0f921"
             ]
            ],
            "type": "surface"
           }
          ],
          "table": [
           {
            "cells": {
             "fill": {
              "color": "#EBF0F8"
             },
             "line": {
              "color": "white"
             }
            },
            "header": {
             "fill": {
              "color": "#C8D4E3"
             },
             "line": {
              "color": "white"
             }
            },
            "type": "table"
           }
          ]
         },
         "layout": {
          "annotationdefaults": {
           "arrowcolor": "#2a3f5f",
           "arrowhead": 0,
           "arrowwidth": 1
          },
          "autotypenumbers": "strict",
          "coloraxis": {
           "colorbar": {
            "outlinewidth": 0,
            "ticks": ""
           }
          },
          "colorscale": {
           "diverging": [
            [
             0,
             "#8e0152"
            ],
            [
             0.1,
             "#c51b7d"
            ],
            [
             0.2,
             "#de77ae"
            ],
            [
             0.3,
             "#f1b6da"
            ],
            [
             0.4,
             "#fde0ef"
            ],
            [
             0.5,
             "#f7f7f7"
            ],
            [
             0.6,
             "#e6f5d0"
            ],
            [
             0.7,
             "#b8e186"
            ],
            [
             0.8,
             "#7fbc41"
            ],
            [
             0.9,
             "#4d9221"
            ],
            [
             1,
             "#276419"
            ]
           ],
           "sequential": [
            [
             0,
             "#0d0887"
            ],
            [
             0.1111111111111111,
             "#46039f"
            ],
            [
             0.2222222222222222,
             "#7201a8"
            ],
            [
             0.3333333333333333,
             "#9c179e"
            ],
            [
             0.4444444444444444,
             "#bd3786"
            ],
            [
             0.5555555555555556,
             "#d8576b"
            ],
            [
             0.6666666666666666,
             "#ed7953"
            ],
            [
             0.7777777777777778,
             "#fb9f3a"
            ],
            [
             0.8888888888888888,
             "#fdca26"
            ],
            [
             1,
             "#f0f921"
            ]
           ],
           "sequentialminus": [
            [
             0,
             "#0d0887"
            ],
            [
             0.1111111111111111,
             "#46039f"
            ],
            [
             0.2222222222222222,
             "#7201a8"
            ],
            [
             0.3333333333333333,
             "#9c179e"
            ],
            [
             0.4444444444444444,
             "#bd3786"
            ],
            [
             0.5555555555555556,
             "#d8576b"
            ],
            [
             0.6666666666666666,
             "#ed7953"
            ],
            [
             0.7777777777777778,
             "#fb9f3a"
            ],
            [
             0.8888888888888888,
             "#fdca26"
            ],
            [
             1,
             "#f0f921"
            ]
           ]
          },
          "colorway": [
           "#636efa",
           "#EF553B",
           "#00cc96",
           "#ab63fa",
           "#FFA15A",
           "#19d3f3",
           "#FF6692",
           "#B6E880",
           "#FF97FF",
           "#FECB52"
          ],
          "font": {
           "color": "#2a3f5f"
          },
          "geo": {
           "bgcolor": "white",
           "lakecolor": "white",
           "landcolor": "#E5ECF6",
           "showlakes": true,
           "showland": true,
           "subunitcolor": "white"
          },
          "hoverlabel": {
           "align": "left"
          },
          "hovermode": "closest",
          "mapbox": {
           "style": "light"
          },
          "paper_bgcolor": "white",
          "plot_bgcolor": "#E5ECF6",
          "polar": {
           "angularaxis": {
            "gridcolor": "white",
            "linecolor": "white",
            "ticks": ""
           },
           "bgcolor": "#E5ECF6",
           "radialaxis": {
            "gridcolor": "white",
            "linecolor": "white",
            "ticks": ""
           }
          },
          "scene": {
           "xaxis": {
            "backgroundcolor": "#E5ECF6",
            "gridcolor": "white",
            "gridwidth": 2,
            "linecolor": "white",
            "showbackground": true,
            "ticks": "",
            "zerolinecolor": "white"
           },
           "yaxis": {
            "backgroundcolor": "#E5ECF6",
            "gridcolor": "white",
            "gridwidth": 2,
            "linecolor": "white",
            "showbackground": true,
            "ticks": "",
            "zerolinecolor": "white"
           },
           "zaxis": {
            "backgroundcolor": "#E5ECF6",
            "gridcolor": "white",
            "gridwidth": 2,
            "linecolor": "white",
            "showbackground": true,
            "ticks": "",
            "zerolinecolor": "white"
           }
          },
          "shapedefaults": {
           "line": {
            "color": "#2a3f5f"
           }
          },
          "ternary": {
           "aaxis": {
            "gridcolor": "white",
            "linecolor": "white",
            "ticks": ""
           },
           "baxis": {
            "gridcolor": "white",
            "linecolor": "white",
            "ticks": ""
           },
           "bgcolor": "#E5ECF6",
           "caxis": {
            "gridcolor": "white",
            "linecolor": "white",
            "ticks": ""
           }
          },
          "title": {
           "x": 0.05
          },
          "xaxis": {
           "automargin": true,
           "gridcolor": "white",
           "linecolor": "white",
           "ticks": "",
           "title": {
            "standoff": 15
           },
           "zerolinecolor": "white",
           "zerolinewidth": 2
          },
          "yaxis": {
           "automargin": true,
           "gridcolor": "white",
           "linecolor": "white",
           "ticks": "",
           "title": {
            "standoff": 15
           },
           "zerolinecolor": "white",
           "zerolinewidth": 2
          }
         }
        },
        "title": {
         "text": "Optimization History Plot"
        },
        "xaxis": {
         "title": {
          "text": "Trial"
         }
        },
        "yaxis": {
         "title": {
          "text": "Objective Value"
         }
        }
       }
      }
     },
     "metadata": {},
     "output_type": "display_data"
    }
   ],
   "source": [
    "from optuna.visualization import plot_optimization_history, plot_param_importances\n",
    "# Visualization of the optimization process\n",
    "plot_optimization_history(study)"
   ]
  },
  {
   "cell_type": "code",
   "execution_count": 14,
   "metadata": {},
   "outputs": [
    {
     "data": {
      "application/vnd.plotly.v1+json": {
       "config": {
        "plotlyServerURL": "https://plot.ly"
       },
       "data": [
        {
         "cliponaxis": false,
         "hovertemplate": [
          "alpha (FloatDistribution): 0.00606889675803785<extra></extra>",
          "lambda (FloatDistribution): 0.09182927330646438<extra></extra>",
          "booster (CategoricalDistribution): 0.9021018299354978<extra></extra>"
         ],
         "name": "Objective Value",
         "orientation": "h",
         "text": [
          "<0.01",
          "0.09",
          "0.90"
         ],
         "textposition": "outside",
         "type": "bar",
         "x": [
          0.00606889675803785,
          0.09182927330646438,
          0.9021018299354978
         ],
         "y": [
          "alpha",
          "lambda",
          "booster"
         ]
        }
       ],
       "layout": {
        "template": {
         "data": {
          "bar": [
           {
            "error_x": {
             "color": "#2a3f5f"
            },
            "error_y": {
             "color": "#2a3f5f"
            },
            "marker": {
             "line": {
              "color": "#E5ECF6",
              "width": 0.5
             },
             "pattern": {
              "fillmode": "overlay",
              "size": 10,
              "solidity": 0.2
             }
            },
            "type": "bar"
           }
          ],
          "barpolar": [
           {
            "marker": {
             "line": {
              "color": "#E5ECF6",
              "width": 0.5
             },
             "pattern": {
              "fillmode": "overlay",
              "size": 10,
              "solidity": 0.2
             }
            },
            "type": "barpolar"
           }
          ],
          "carpet": [
           {
            "aaxis": {
             "endlinecolor": "#2a3f5f",
             "gridcolor": "white",
             "linecolor": "white",
             "minorgridcolor": "white",
             "startlinecolor": "#2a3f5f"
            },
            "baxis": {
             "endlinecolor": "#2a3f5f",
             "gridcolor": "white",
             "linecolor": "white",
             "minorgridcolor": "white",
             "startlinecolor": "#2a3f5f"
            },
            "type": "carpet"
           }
          ],
          "choropleth": [
           {
            "colorbar": {
             "outlinewidth": 0,
             "ticks": ""
            },
            "type": "choropleth"
           }
          ],
          "contour": [
           {
            "colorbar": {
             "outlinewidth": 0,
             "ticks": ""
            },
            "colorscale": [
             [
              0,
              "#0d0887"
             ],
             [
              0.1111111111111111,
              "#46039f"
             ],
             [
              0.2222222222222222,
              "#7201a8"
             ],
             [
              0.3333333333333333,
              "#9c179e"
             ],
             [
              0.4444444444444444,
              "#bd3786"
             ],
             [
              0.5555555555555556,
              "#d8576b"
             ],
             [
              0.6666666666666666,
              "#ed7953"
             ],
             [
              0.7777777777777778,
              "#fb9f3a"
             ],
             [
              0.8888888888888888,
              "#fdca26"
             ],
             [
              1,
              "#f0f921"
             ]
            ],
            "type": "contour"
           }
          ],
          "contourcarpet": [
           {
            "colorbar": {
             "outlinewidth": 0,
             "ticks": ""
            },
            "type": "contourcarpet"
           }
          ],
          "heatmap": [
           {
            "colorbar": {
             "outlinewidth": 0,
             "ticks": ""
            },
            "colorscale": [
             [
              0,
              "#0d0887"
             ],
             [
              0.1111111111111111,
              "#46039f"
             ],
             [
              0.2222222222222222,
              "#7201a8"
             ],
             [
              0.3333333333333333,
              "#9c179e"
             ],
             [
              0.4444444444444444,
              "#bd3786"
             ],
             [
              0.5555555555555556,
              "#d8576b"
             ],
             [
              0.6666666666666666,
              "#ed7953"
             ],
             [
              0.7777777777777778,
              "#fb9f3a"
             ],
             [
              0.8888888888888888,
              "#fdca26"
             ],
             [
              1,
              "#f0f921"
             ]
            ],
            "type": "heatmap"
           }
          ],
          "histogram": [
           {
            "marker": {
             "pattern": {
              "fillmode": "overlay",
              "size": 10,
              "solidity": 0.2
             }
            },
            "type": "histogram"
           }
          ],
          "histogram2d": [
           {
            "colorbar": {
             "outlinewidth": 0,
             "ticks": ""
            },
            "colorscale": [
             [
              0,
              "#0d0887"
             ],
             [
              0.1111111111111111,
              "#46039f"
             ],
             [
              0.2222222222222222,
              "#7201a8"
             ],
             [
              0.3333333333333333,
              "#9c179e"
             ],
             [
              0.4444444444444444,
              "#bd3786"
             ],
             [
              0.5555555555555556,
              "#d8576b"
             ],
             [
              0.6666666666666666,
              "#ed7953"
             ],
             [
              0.7777777777777778,
              "#fb9f3a"
             ],
             [
              0.8888888888888888,
              "#fdca26"
             ],
             [
              1,
              "#f0f921"
             ]
            ],
            "type": "histogram2d"
           }
          ],
          "histogram2dcontour": [
           {
            "colorbar": {
             "outlinewidth": 0,
             "ticks": ""
            },
            "colorscale": [
             [
              0,
              "#0d0887"
             ],
             [
              0.1111111111111111,
              "#46039f"
             ],
             [
              0.2222222222222222,
              "#7201a8"
             ],
             [
              0.3333333333333333,
              "#9c179e"
             ],
             [
              0.4444444444444444,
              "#bd3786"
             ],
             [
              0.5555555555555556,
              "#d8576b"
             ],
             [
              0.6666666666666666,
              "#ed7953"
             ],
             [
              0.7777777777777778,
              "#fb9f3a"
             ],
             [
              0.8888888888888888,
              "#fdca26"
             ],
             [
              1,
              "#f0f921"
             ]
            ],
            "type": "histogram2dcontour"
           }
          ],
          "mesh3d": [
           {
            "colorbar": {
             "outlinewidth": 0,
             "ticks": ""
            },
            "type": "mesh3d"
           }
          ],
          "parcoords": [
           {
            "line": {
             "colorbar": {
              "outlinewidth": 0,
              "ticks": ""
             }
            },
            "type": "parcoords"
           }
          ],
          "pie": [
           {
            "automargin": true,
            "type": "pie"
           }
          ],
          "scatter": [
           {
            "fillpattern": {
             "fillmode": "overlay",
             "size": 10,
             "solidity": 0.2
            },
            "type": "scatter"
           }
          ],
          "scatter3d": [
           {
            "line": {
             "colorbar": {
              "outlinewidth": 0,
              "ticks": ""
             }
            },
            "marker": {
             "colorbar": {
              "outlinewidth": 0,
              "ticks": ""
             }
            },
            "type": "scatter3d"
           }
          ],
          "scattercarpet": [
           {
            "marker": {
             "colorbar": {
              "outlinewidth": 0,
              "ticks": ""
             }
            },
            "type": "scattercarpet"
           }
          ],
          "scattergeo": [
           {
            "marker": {
             "colorbar": {
              "outlinewidth": 0,
              "ticks": ""
             }
            },
            "type": "scattergeo"
           }
          ],
          "scattergl": [
           {
            "marker": {
             "colorbar": {
              "outlinewidth": 0,
              "ticks": ""
             }
            },
            "type": "scattergl"
           }
          ],
          "scattermap": [
           {
            "marker": {
             "colorbar": {
              "outlinewidth": 0,
              "ticks": ""
             }
            },
            "type": "scattermap"
           }
          ],
          "scattermapbox": [
           {
            "marker": {
             "colorbar": {
              "outlinewidth": 0,
              "ticks": ""
             }
            },
            "type": "scattermapbox"
           }
          ],
          "scatterpolar": [
           {
            "marker": {
             "colorbar": {
              "outlinewidth": 0,
              "ticks": ""
             }
            },
            "type": "scatterpolar"
           }
          ],
          "scatterpolargl": [
           {
            "marker": {
             "colorbar": {
              "outlinewidth": 0,
              "ticks": ""
             }
            },
            "type": "scatterpolargl"
           }
          ],
          "scatterternary": [
           {
            "marker": {
             "colorbar": {
              "outlinewidth": 0,
              "ticks": ""
             }
            },
            "type": "scatterternary"
           }
          ],
          "surface": [
           {
            "colorbar": {
             "outlinewidth": 0,
             "ticks": ""
            },
            "colorscale": [
             [
              0,
              "#0d0887"
             ],
             [
              0.1111111111111111,
              "#46039f"
             ],
             [
              0.2222222222222222,
              "#7201a8"
             ],
             [
              0.3333333333333333,
              "#9c179e"
             ],
             [
              0.4444444444444444,
              "#bd3786"
             ],
             [
              0.5555555555555556,
              "#d8576b"
             ],
             [
              0.6666666666666666,
              "#ed7953"
             ],
             [
              0.7777777777777778,
              "#fb9f3a"
             ],
             [
              0.8888888888888888,
              "#fdca26"
             ],
             [
              1,
              "#f0f921"
             ]
            ],
            "type": "surface"
           }
          ],
          "table": [
           {
            "cells": {
             "fill": {
              "color": "#EBF0F8"
             },
             "line": {
              "color": "white"
             }
            },
            "header": {
             "fill": {
              "color": "#C8D4E3"
             },
             "line": {
              "color": "white"
             }
            },
            "type": "table"
           }
          ]
         },
         "layout": {
          "annotationdefaults": {
           "arrowcolor": "#2a3f5f",
           "arrowhead": 0,
           "arrowwidth": 1
          },
          "autotypenumbers": "strict",
          "coloraxis": {
           "colorbar": {
            "outlinewidth": 0,
            "ticks": ""
           }
          },
          "colorscale": {
           "diverging": [
            [
             0,
             "#8e0152"
            ],
            [
             0.1,
             "#c51b7d"
            ],
            [
             0.2,
             "#de77ae"
            ],
            [
             0.3,
             "#f1b6da"
            ],
            [
             0.4,
             "#fde0ef"
            ],
            [
             0.5,
             "#f7f7f7"
            ],
            [
             0.6,
             "#e6f5d0"
            ],
            [
             0.7,
             "#b8e186"
            ],
            [
             0.8,
             "#7fbc41"
            ],
            [
             0.9,
             "#4d9221"
            ],
            [
             1,
             "#276419"
            ]
           ],
           "sequential": [
            [
             0,
             "#0d0887"
            ],
            [
             0.1111111111111111,
             "#46039f"
            ],
            [
             0.2222222222222222,
             "#7201a8"
            ],
            [
             0.3333333333333333,
             "#9c179e"
            ],
            [
             0.4444444444444444,
             "#bd3786"
            ],
            [
             0.5555555555555556,
             "#d8576b"
            ],
            [
             0.6666666666666666,
             "#ed7953"
            ],
            [
             0.7777777777777778,
             "#fb9f3a"
            ],
            [
             0.8888888888888888,
             "#fdca26"
            ],
            [
             1,
             "#f0f921"
            ]
           ],
           "sequentialminus": [
            [
             0,
             "#0d0887"
            ],
            [
             0.1111111111111111,
             "#46039f"
            ],
            [
             0.2222222222222222,
             "#7201a8"
            ],
            [
             0.3333333333333333,
             "#9c179e"
            ],
            [
             0.4444444444444444,
             "#bd3786"
            ],
            [
             0.5555555555555556,
             "#d8576b"
            ],
            [
             0.6666666666666666,
             "#ed7953"
            ],
            [
             0.7777777777777778,
             "#fb9f3a"
            ],
            [
             0.8888888888888888,
             "#fdca26"
            ],
            [
             1,
             "#f0f921"
            ]
           ]
          },
          "colorway": [
           "#636efa",
           "#EF553B",
           "#00cc96",
           "#ab63fa",
           "#FFA15A",
           "#19d3f3",
           "#FF6692",
           "#B6E880",
           "#FF97FF",
           "#FECB52"
          ],
          "font": {
           "color": "#2a3f5f"
          },
          "geo": {
           "bgcolor": "white",
           "lakecolor": "white",
           "landcolor": "#E5ECF6",
           "showlakes": true,
           "showland": true,
           "subunitcolor": "white"
          },
          "hoverlabel": {
           "align": "left"
          },
          "hovermode": "closest",
          "mapbox": {
           "style": "light"
          },
          "paper_bgcolor": "white",
          "plot_bgcolor": "#E5ECF6",
          "polar": {
           "angularaxis": {
            "gridcolor": "white",
            "linecolor": "white",
            "ticks": ""
           },
           "bgcolor": "#E5ECF6",
           "radialaxis": {
            "gridcolor": "white",
            "linecolor": "white",
            "ticks": ""
           }
          },
          "scene": {
           "xaxis": {
            "backgroundcolor": "#E5ECF6",
            "gridcolor": "white",
            "gridwidth": 2,
            "linecolor": "white",
            "showbackground": true,
            "ticks": "",
            "zerolinecolor": "white"
           },
           "yaxis": {
            "backgroundcolor": "#E5ECF6",
            "gridcolor": "white",
            "gridwidth": 2,
            "linecolor": "white",
            "showbackground": true,
            "ticks": "",
            "zerolinecolor": "white"
           },
           "zaxis": {
            "backgroundcolor": "#E5ECF6",
            "gridcolor": "white",
            "gridwidth": 2,
            "linecolor": "white",
            "showbackground": true,
            "ticks": "",
            "zerolinecolor": "white"
           }
          },
          "shapedefaults": {
           "line": {
            "color": "#2a3f5f"
           }
          },
          "ternary": {
           "aaxis": {
            "gridcolor": "white",
            "linecolor": "white",
            "ticks": ""
           },
           "baxis": {
            "gridcolor": "white",
            "linecolor": "white",
            "ticks": ""
           },
           "bgcolor": "#E5ECF6",
           "caxis": {
            "gridcolor": "white",
            "linecolor": "white",
            "ticks": ""
           }
          },
          "title": {
           "x": 0.05
          },
          "xaxis": {
           "automargin": true,
           "gridcolor": "white",
           "linecolor": "white",
           "ticks": "",
           "title": {
            "standoff": 15
           },
           "zerolinecolor": "white",
           "zerolinewidth": 2
          },
          "yaxis": {
           "automargin": true,
           "gridcolor": "white",
           "linecolor": "white",
           "ticks": "",
           "title": {
            "standoff": 15
           },
           "zerolinecolor": "white",
           "zerolinewidth": 2
          }
         }
        },
        "title": {
         "text": "Hyperparameter Importances"
        },
        "xaxis": {
         "title": {
          "text": "Hyperparameter Importance"
         }
        },
        "yaxis": {
         "title": {
          "text": "Hyperparameter"
         }
        }
       }
      }
     },
     "metadata": {},
     "output_type": "display_data"
    }
   ],
   "source": [
    "# Visualize parameter importances\n",
    "plot_param_importances(study)"
   ]
  },
  {
   "cell_type": "code",
   "execution_count": 15,
   "metadata": {},
   "outputs": [],
   "source": [
    "param = study.best_params\n",
    "param['objective'] = 'binary:logistic'\n",
    "param['eval_metric'] = 'aucpr'"
   ]
  },
  {
   "cell_type": "code",
   "execution_count": null,
   "metadata": {},
   "outputs": [
    {
     "name": "stdout",
     "output_type": "stream",
     "text": [
      "[0]\ttrain-aucpr:0.31245\ttest-aucpr:0.27590\n",
      "[50]\ttrain-aucpr:0.89861\ttest-aucpr:0.81008\n",
      "[99]\ttrain-aucpr:0.93120\ttest-aucpr:0.81161\n"
     ]
    }
   ],
   "source": [
    "data = pd.read_csv(\"../data/raw/creditcard.csv\")\n",
    "time = data.pop(\"Time\")\n",
    "test = data.pop(\"Class\")\n",
    "X_train, X_test, y_train, y_test = train_test_split(data, test, test_size=0.25, stratify=test)\n",
    "dtrain = xgb.DMatrix(X_train, y_train)\n",
    "dtest = xgb.DMatrix(X_test, y_test)"
   ]
  },
  {
   "cell_type": "code",
   "execution_count": 17,
   "metadata": {},
   "outputs": [
    {
     "name": "stdout",
     "output_type": "stream",
     "text": [
      "[0]\ttrain-aucpr:0.31245\ttest-aucpr:0.27590\n",
      "[50]\ttrain-aucpr:0.89861\ttest-aucpr:0.81008\n",
      "[100]\ttrain-aucpr:0.93188\ttest-aucpr:0.81153\n",
      "[150]\ttrain-aucpr:0.95467\ttest-aucpr:0.81371\n",
      "[199]\ttrain-aucpr:0.97182\ttest-aucpr:0.81513\n"
     ]
    }
   ],
   "source": [
    "final_model = xgb.train(\n",
    "    params=param,\n",
    "    dtrain=dtrain,\n",
    "    num_boost_round=200,\n",
    "    evals=[(dtrain, 'train'), (dtest, 'test')],\n",
    "    verbose_eval=50,\n",
    ")"
   ]
  },
  {
   "cell_type": "code",
   "execution_count": 21,
   "metadata": {},
   "outputs": [],
   "source": [
    "y_pred = final_model.predict(dtest)\n",
    "y_pred = np.round(y_pred).astype(int)\n",
    "accuracy = (y_pred == y_test).mean()"
   ]
  },
  {
   "cell_type": "code",
   "execution_count": null,
   "metadata": {},
   "outputs": [],
   "source": []
  }
 ],
 "metadata": {
  "kernelspec": {
   "display_name": ".venv",
   "language": "python",
   "name": "python3"
  },
  "language_info": {
   "codemirror_mode": {
    "name": "ipython",
    "version": 3
   },
   "file_extension": ".py",
   "mimetype": "text/x-python",
   "name": "python",
   "nbconvert_exporter": "python",
   "pygments_lexer": "ipython3",
   "version": "3.12.7"
  }
 },
 "nbformat": 4,
 "nbformat_minor": 2
}
